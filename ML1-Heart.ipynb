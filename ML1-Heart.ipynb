{
 "cells": [
  {
   "cell_type": "markdown",
   "id": "9809bacb-ae3b-4c78-afe4-a555938aff57",
   "metadata": {},
   "source": [
    "# ML-1 "
   ]
  },
  {
   "cell_type": "code",
   "execution_count": 5,
   "id": "a2756a12-8eca-4720-a3d6-fdabeee1c0e1",
   "metadata": {},
   "outputs": [],
   "source": [
    "import pandas as pd  #Import pandas for data manipulation\n",
    "import numpy as np  #Import numpy for numerical operations"
   ]
  },
  {
   "cell_type": "code",
   "execution_count": 6,
   "id": "8bda3c77-5b07-4e03-b31e-c0099424d4b1",
   "metadata": {},
   "outputs": [],
   "source": [
    "df = pd.read_csv('Heart.csv')  # Load the dataset from a CSV file into a DataFrame"
   ]
  },
  {
   "cell_type": "code",
   "execution_count": 7,
   "id": "6dc33f9e-a267-4010-b770-d2baf3502a3f",
   "metadata": {},
   "outputs": [
    {
     "name": "stdout",
     "output_type": "stream",
     "text": [
      "     Unnamed: 0  Age  Sex     ChestPain  RestBP  Chol  Fbs  RestECG  MaxHR  \\\n",
      "0             1   63    1       typical     145   233    1        2    150   \n",
      "1             2   67    1  asymptomatic     160   286    0        2    108   \n",
      "2             3   67    1  asymptomatic     120   229    0        2    129   \n",
      "3             4   37    1    nonanginal     130   250    0        0    187   \n",
      "4             5   41    0    nontypical     130   204    0        2    172   \n",
      "..          ...  ...  ...           ...     ...   ...  ...      ...    ...   \n",
      "298         299   45    1       typical     110   264    0        0    132   \n",
      "299         300   68    1  asymptomatic     144   193    1        0    141   \n",
      "300         301   57    1  asymptomatic     130   131    0        0    115   \n",
      "301         302   57    0    nontypical     130   236    0        2    174   \n",
      "302         303   38    1    nonanginal     138   175    0        0    173   \n",
      "\n",
      "     ExAng  Oldpeak  Slope   Ca        Thal  AHD  \n",
      "0        0      2.3      3  0.0       fixed   No  \n",
      "1        1      1.5      2  3.0      normal  Yes  \n",
      "2        1      2.6      2  2.0  reversable  Yes  \n",
      "3        0      3.5      3  0.0      normal   No  \n",
      "4        0      1.4      1  0.0      normal   No  \n",
      "..     ...      ...    ...  ...         ...  ...  \n",
      "298      0      1.2      2  0.0  reversable  Yes  \n",
      "299      0      3.4      2  2.0  reversable  Yes  \n",
      "300      1      1.2      2  1.0  reversable  Yes  \n",
      "301      0      0.0      2  1.0      normal  Yes  \n",
      "302      0      0.0      1  NaN      normal   No  \n",
      "\n",
      "[303 rows x 15 columns]\n"
     ]
    }
   ],
   "source": [
    "print(df)  #  Print the DataFrame to visualize its contents"
   ]
  },
  {
   "cell_type": "markdown",
   "id": "db0264ad-3c2f-4090-b83c-60170538500b",
   "metadata": {},
   "source": [
    "### a) Find shape of dataset"
   ]
  },
  {
   "cell_type": "code",
   "execution_count": 8,
   "id": "ecee156e-6786-4c62-a80c-bfbf7dddc9b2",
   "metadata": {},
   "outputs": [
    {
     "data": {
      "text/plain": [
       "(303, 15)"
      ]
     },
     "execution_count": 8,
     "metadata": {},
     "output_type": "execute_result"
    }
   ],
   "source": [
    "df.shape  # Output the shape of the DataFrame (number of rows and columns)"
   ]
  },
  {
   "cell_type": "markdown",
   "id": "588b7194-566a-472e-86a2-fb6013c0c7b6",
   "metadata": {},
   "source": [
    "### b) Find missing values in dataset"
   ]
  },
  {
   "cell_type": "code",
   "execution_count": 9,
   "id": "31fbdf02-66f4-49a4-8d9c-c99cfad0accd",
   "metadata": {},
   "outputs": [
    {
     "data": {
      "text/plain": [
       "Unnamed: 0    0\n",
       "Age           0\n",
       "Sex           0\n",
       "ChestPain     0\n",
       "RestBP        0\n",
       "Chol          0\n",
       "Fbs           0\n",
       "RestECG       0\n",
       "MaxHR         0\n",
       "ExAng         0\n",
       "Oldpeak       0\n",
       "Slope         0\n",
       "Ca            4\n",
       "Thal          2\n",
       "AHD           0\n",
       "dtype: int64"
      ]
     },
     "execution_count": 9,
     "metadata": {},
     "output_type": "execute_result"
    }
   ],
   "source": [
    "df.isnull().sum()  # Check for missing values in each column and sum them up"
   ]
  },
  {
   "cell_type": "code",
   "execution_count": 10,
   "id": "6b2566a0-2055-465a-93a2-8ee873719c50",
   "metadata": {},
   "outputs": [
    {
     "data": {
      "text/plain": [
       "Unnamed: 0    303\n",
       "Age           303\n",
       "Sex           303\n",
       "ChestPain     303\n",
       "RestBP        303\n",
       "Chol          303\n",
       "Fbs           303\n",
       "RestECG       303\n",
       "MaxHR         303\n",
       "ExAng         303\n",
       "Oldpeak       303\n",
       "Slope         303\n",
       "Ca            299\n",
       "Thal          301\n",
       "AHD           303\n",
       "dtype: int64"
      ]
     },
     "execution_count": 10,
     "metadata": {},
     "output_type": "execute_result"
    }
   ],
   "source": [
    "df.count()  #  Count the number of non-null values in each column of the DataFrame"
   ]
  },
  {
   "cell_type": "markdown",
   "id": "6d3081b0-7caf-4347-ba82-fcb5c9aafa6a",
   "metadata": {},
   "source": [
    "### c) Find data type of each column"
   ]
  },
  {
   "cell_type": "code",
   "execution_count": 11,
   "id": "8525ba42-587d-47b1-940a-4630fc6ec907",
   "metadata": {},
   "outputs": [
    {
     "data": {
      "text/plain": [
       "Unnamed: 0      int64\n",
       "Age             int64\n",
       "Sex             int64\n",
       "ChestPain      object\n",
       "RestBP          int64\n",
       "Chol            int64\n",
       "Fbs             int64\n",
       "RestECG         int64\n",
       "MaxHR           int64\n",
       "ExAng           int64\n",
       "Oldpeak       float64\n",
       "Slope           int64\n",
       "Ca            float64\n",
       "Thal           object\n",
       "AHD            object\n",
       "dtype: object"
      ]
     },
     "execution_count": 11,
     "metadata": {},
     "output_type": "execute_result"
    }
   ],
   "source": [
    "df.dtypes  # Method 1: Display the data types of each column in the DataFrame"
   ]
  },
  {
   "cell_type": "code",
   "execution_count": 12,
   "id": "7c34c1d0-c86e-4cf2-9a67-26ac850079c2",
   "metadata": {},
   "outputs": [
    {
     "name": "stdout",
     "output_type": "stream",
     "text": [
      "<class 'pandas.core.frame.DataFrame'>\n",
      "RangeIndex: 303 entries, 0 to 302\n",
      "Data columns (total 15 columns):\n",
      " #   Column      Non-Null Count  Dtype  \n",
      "---  ------      --------------  -----  \n",
      " 0   Unnamed: 0  303 non-null    int64  \n",
      " 1   Age         303 non-null    int64  \n",
      " 2   Sex         303 non-null    int64  \n",
      " 3   ChestPain   303 non-null    object \n",
      " 4   RestBP      303 non-null    int64  \n",
      " 5   Chol        303 non-null    int64  \n",
      " 6   Fbs         303 non-null    int64  \n",
      " 7   RestECG     303 non-null    int64  \n",
      " 8   MaxHR       303 non-null    int64  \n",
      " 9   ExAng       303 non-null    int64  \n",
      " 10  Oldpeak     303 non-null    float64\n",
      " 11  Slope       303 non-null    int64  \n",
      " 12  Ca          299 non-null    float64\n",
      " 13  Thal        301 non-null    object \n",
      " 14  AHD         303 non-null    object \n",
      "dtypes: float64(2), int64(10), object(3)\n",
      "memory usage: 35.6+ KB\n"
     ]
    }
   ],
   "source": [
    "df.info()  # Method 2 to display data types "
   ]
  },
  {
   "cell_type": "markdown",
   "id": "407943df-29ef-4310-aceb-dab71f2f7005",
   "metadata": {},
   "source": [
    "### d) Finding out zero's"
   ]
  },
  {
   "cell_type": "code",
   "execution_count": 13,
   "id": "d743a440-1962-442d-a6f6-0e434119109c",
   "metadata": {},
   "outputs": [
    {
     "data": {
      "text/html": [
       "<div>\n",
       "<style scoped>\n",
       "    .dataframe tbody tr th:only-of-type {\n",
       "        vertical-align: middle;\n",
       "    }\n",
       "\n",
       "    .dataframe tbody tr th {\n",
       "        vertical-align: top;\n",
       "    }\n",
       "\n",
       "    .dataframe thead th {\n",
       "        text-align: right;\n",
       "    }\n",
       "</style>\n",
       "<table border=\"1\" class=\"dataframe\">\n",
       "  <thead>\n",
       "    <tr style=\"text-align: right;\">\n",
       "      <th></th>\n",
       "      <th>Unnamed: 0</th>\n",
       "      <th>Age</th>\n",
       "      <th>Sex</th>\n",
       "      <th>ChestPain</th>\n",
       "      <th>RestBP</th>\n",
       "      <th>Chol</th>\n",
       "      <th>Fbs</th>\n",
       "      <th>RestECG</th>\n",
       "      <th>MaxHR</th>\n",
       "      <th>ExAng</th>\n",
       "      <th>Oldpeak</th>\n",
       "      <th>Slope</th>\n",
       "      <th>Ca</th>\n",
       "      <th>Thal</th>\n",
       "      <th>AHD</th>\n",
       "    </tr>\n",
       "  </thead>\n",
       "  <tbody>\n",
       "    <tr>\n",
       "      <th>0</th>\n",
       "      <td>False</td>\n",
       "      <td>False</td>\n",
       "      <td>False</td>\n",
       "      <td>False</td>\n",
       "      <td>False</td>\n",
       "      <td>False</td>\n",
       "      <td>False</td>\n",
       "      <td>False</td>\n",
       "      <td>False</td>\n",
       "      <td>True</td>\n",
       "      <td>False</td>\n",
       "      <td>False</td>\n",
       "      <td>True</td>\n",
       "      <td>False</td>\n",
       "      <td>False</td>\n",
       "    </tr>\n",
       "    <tr>\n",
       "      <th>1</th>\n",
       "      <td>False</td>\n",
       "      <td>False</td>\n",
       "      <td>False</td>\n",
       "      <td>False</td>\n",
       "      <td>False</td>\n",
       "      <td>False</td>\n",
       "      <td>True</td>\n",
       "      <td>False</td>\n",
       "      <td>False</td>\n",
       "      <td>False</td>\n",
       "      <td>False</td>\n",
       "      <td>False</td>\n",
       "      <td>False</td>\n",
       "      <td>False</td>\n",
       "      <td>False</td>\n",
       "    </tr>\n",
       "    <tr>\n",
       "      <th>2</th>\n",
       "      <td>False</td>\n",
       "      <td>False</td>\n",
       "      <td>False</td>\n",
       "      <td>False</td>\n",
       "      <td>False</td>\n",
       "      <td>False</td>\n",
       "      <td>True</td>\n",
       "      <td>False</td>\n",
       "      <td>False</td>\n",
       "      <td>False</td>\n",
       "      <td>False</td>\n",
       "      <td>False</td>\n",
       "      <td>False</td>\n",
       "      <td>False</td>\n",
       "      <td>False</td>\n",
       "    </tr>\n",
       "    <tr>\n",
       "      <th>3</th>\n",
       "      <td>False</td>\n",
       "      <td>False</td>\n",
       "      <td>False</td>\n",
       "      <td>False</td>\n",
       "      <td>False</td>\n",
       "      <td>False</td>\n",
       "      <td>True</td>\n",
       "      <td>True</td>\n",
       "      <td>False</td>\n",
       "      <td>True</td>\n",
       "      <td>False</td>\n",
       "      <td>False</td>\n",
       "      <td>True</td>\n",
       "      <td>False</td>\n",
       "      <td>False</td>\n",
       "    </tr>\n",
       "    <tr>\n",
       "      <th>4</th>\n",
       "      <td>False</td>\n",
       "      <td>False</td>\n",
       "      <td>True</td>\n",
       "      <td>False</td>\n",
       "      <td>False</td>\n",
       "      <td>False</td>\n",
       "      <td>True</td>\n",
       "      <td>False</td>\n",
       "      <td>False</td>\n",
       "      <td>True</td>\n",
       "      <td>False</td>\n",
       "      <td>False</td>\n",
       "      <td>True</td>\n",
       "      <td>False</td>\n",
       "      <td>False</td>\n",
       "    </tr>\n",
       "    <tr>\n",
       "      <th>...</th>\n",
       "      <td>...</td>\n",
       "      <td>...</td>\n",
       "      <td>...</td>\n",
       "      <td>...</td>\n",
       "      <td>...</td>\n",
       "      <td>...</td>\n",
       "      <td>...</td>\n",
       "      <td>...</td>\n",
       "      <td>...</td>\n",
       "      <td>...</td>\n",
       "      <td>...</td>\n",
       "      <td>...</td>\n",
       "      <td>...</td>\n",
       "      <td>...</td>\n",
       "      <td>...</td>\n",
       "    </tr>\n",
       "    <tr>\n",
       "      <th>298</th>\n",
       "      <td>False</td>\n",
       "      <td>False</td>\n",
       "      <td>False</td>\n",
       "      <td>False</td>\n",
       "      <td>False</td>\n",
       "      <td>False</td>\n",
       "      <td>True</td>\n",
       "      <td>True</td>\n",
       "      <td>False</td>\n",
       "      <td>True</td>\n",
       "      <td>False</td>\n",
       "      <td>False</td>\n",
       "      <td>True</td>\n",
       "      <td>False</td>\n",
       "      <td>False</td>\n",
       "    </tr>\n",
       "    <tr>\n",
       "      <th>299</th>\n",
       "      <td>False</td>\n",
       "      <td>False</td>\n",
       "      <td>False</td>\n",
       "      <td>False</td>\n",
       "      <td>False</td>\n",
       "      <td>False</td>\n",
       "      <td>False</td>\n",
       "      <td>True</td>\n",
       "      <td>False</td>\n",
       "      <td>True</td>\n",
       "      <td>False</td>\n",
       "      <td>False</td>\n",
       "      <td>False</td>\n",
       "      <td>False</td>\n",
       "      <td>False</td>\n",
       "    </tr>\n",
       "    <tr>\n",
       "      <th>300</th>\n",
       "      <td>False</td>\n",
       "      <td>False</td>\n",
       "      <td>False</td>\n",
       "      <td>False</td>\n",
       "      <td>False</td>\n",
       "      <td>False</td>\n",
       "      <td>True</td>\n",
       "      <td>True</td>\n",
       "      <td>False</td>\n",
       "      <td>False</td>\n",
       "      <td>False</td>\n",
       "      <td>False</td>\n",
       "      <td>False</td>\n",
       "      <td>False</td>\n",
       "      <td>False</td>\n",
       "    </tr>\n",
       "    <tr>\n",
       "      <th>301</th>\n",
       "      <td>False</td>\n",
       "      <td>False</td>\n",
       "      <td>True</td>\n",
       "      <td>False</td>\n",
       "      <td>False</td>\n",
       "      <td>False</td>\n",
       "      <td>True</td>\n",
       "      <td>False</td>\n",
       "      <td>False</td>\n",
       "      <td>True</td>\n",
       "      <td>True</td>\n",
       "      <td>False</td>\n",
       "      <td>False</td>\n",
       "      <td>False</td>\n",
       "      <td>False</td>\n",
       "    </tr>\n",
       "    <tr>\n",
       "      <th>302</th>\n",
       "      <td>False</td>\n",
       "      <td>False</td>\n",
       "      <td>False</td>\n",
       "      <td>False</td>\n",
       "      <td>False</td>\n",
       "      <td>False</td>\n",
       "      <td>True</td>\n",
       "      <td>True</td>\n",
       "      <td>False</td>\n",
       "      <td>True</td>\n",
       "      <td>True</td>\n",
       "      <td>False</td>\n",
       "      <td>False</td>\n",
       "      <td>False</td>\n",
       "      <td>False</td>\n",
       "    </tr>\n",
       "  </tbody>\n",
       "</table>\n",
       "<p>303 rows × 15 columns</p>\n",
       "</div>"
      ],
      "text/plain": [
       "     Unnamed: 0    Age    Sex  ChestPain  RestBP   Chol    Fbs  RestECG  \\\n",
       "0         False  False  False      False   False  False  False    False   \n",
       "1         False  False  False      False   False  False   True    False   \n",
       "2         False  False  False      False   False  False   True    False   \n",
       "3         False  False  False      False   False  False   True     True   \n",
       "4         False  False   True      False   False  False   True    False   \n",
       "..          ...    ...    ...        ...     ...    ...    ...      ...   \n",
       "298       False  False  False      False   False  False   True     True   \n",
       "299       False  False  False      False   False  False  False     True   \n",
       "300       False  False  False      False   False  False   True     True   \n",
       "301       False  False   True      False   False  False   True    False   \n",
       "302       False  False  False      False   False  False   True     True   \n",
       "\n",
       "     MaxHR  ExAng  Oldpeak  Slope     Ca   Thal    AHD  \n",
       "0    False   True    False  False   True  False  False  \n",
       "1    False  False    False  False  False  False  False  \n",
       "2    False  False    False  False  False  False  False  \n",
       "3    False   True    False  False   True  False  False  \n",
       "4    False   True    False  False   True  False  False  \n",
       "..     ...    ...      ...    ...    ...    ...    ...  \n",
       "298  False   True    False  False   True  False  False  \n",
       "299  False   True    False  False  False  False  False  \n",
       "300  False  False    False  False  False  False  False  \n",
       "301  False   True     True  False  False  False  False  \n",
       "302  False   True     True  False  False  False  False  \n",
       "\n",
       "[303 rows x 15 columns]"
      ]
     },
     "execution_count": 13,
     "metadata": {},
     "output_type": "execute_result"
    }
   ],
   "source": [
    "df == 0  # Method 1: Create a boolean DataFrame indicating where the values are zero"
   ]
  },
  {
   "cell_type": "code",
   "execution_count": 14,
   "id": "8105ae2d-9286-40fa-801b-24e4f965beb3",
   "metadata": {},
   "outputs": [
    {
     "data": {
      "text/html": [
       "<div>\n",
       "<style scoped>\n",
       "    .dataframe tbody tr th:only-of-type {\n",
       "        vertical-align: middle;\n",
       "    }\n",
       "\n",
       "    .dataframe tbody tr th {\n",
       "        vertical-align: top;\n",
       "    }\n",
       "\n",
       "    .dataframe thead th {\n",
       "        text-align: right;\n",
       "    }\n",
       "</style>\n",
       "<table border=\"1\" class=\"dataframe\">\n",
       "  <thead>\n",
       "    <tr style=\"text-align: right;\">\n",
       "      <th></th>\n",
       "      <th>Unnamed: 0</th>\n",
       "      <th>Age</th>\n",
       "      <th>Sex</th>\n",
       "      <th>ChestPain</th>\n",
       "      <th>RestBP</th>\n",
       "      <th>Chol</th>\n",
       "      <th>Fbs</th>\n",
       "      <th>RestECG</th>\n",
       "      <th>MaxHR</th>\n",
       "      <th>ExAng</th>\n",
       "      <th>Oldpeak</th>\n",
       "      <th>Slope</th>\n",
       "      <th>Ca</th>\n",
       "      <th>Thal</th>\n",
       "      <th>AHD</th>\n",
       "    </tr>\n",
       "  </thead>\n",
       "  <tbody>\n",
       "    <tr>\n",
       "      <th>0</th>\n",
       "      <td>NaN</td>\n",
       "      <td>NaN</td>\n",
       "      <td>NaN</td>\n",
       "      <td>NaN</td>\n",
       "      <td>NaN</td>\n",
       "      <td>NaN</td>\n",
       "      <td>NaN</td>\n",
       "      <td>NaN</td>\n",
       "      <td>NaN</td>\n",
       "      <td>0.0</td>\n",
       "      <td>NaN</td>\n",
       "      <td>NaN</td>\n",
       "      <td>0.0</td>\n",
       "      <td>NaN</td>\n",
       "      <td>NaN</td>\n",
       "    </tr>\n",
       "    <tr>\n",
       "      <th>1</th>\n",
       "      <td>NaN</td>\n",
       "      <td>NaN</td>\n",
       "      <td>NaN</td>\n",
       "      <td>NaN</td>\n",
       "      <td>NaN</td>\n",
       "      <td>NaN</td>\n",
       "      <td>0.0</td>\n",
       "      <td>NaN</td>\n",
       "      <td>NaN</td>\n",
       "      <td>NaN</td>\n",
       "      <td>NaN</td>\n",
       "      <td>NaN</td>\n",
       "      <td>NaN</td>\n",
       "      <td>NaN</td>\n",
       "      <td>NaN</td>\n",
       "    </tr>\n",
       "    <tr>\n",
       "      <th>2</th>\n",
       "      <td>NaN</td>\n",
       "      <td>NaN</td>\n",
       "      <td>NaN</td>\n",
       "      <td>NaN</td>\n",
       "      <td>NaN</td>\n",
       "      <td>NaN</td>\n",
       "      <td>0.0</td>\n",
       "      <td>NaN</td>\n",
       "      <td>NaN</td>\n",
       "      <td>NaN</td>\n",
       "      <td>NaN</td>\n",
       "      <td>NaN</td>\n",
       "      <td>NaN</td>\n",
       "      <td>NaN</td>\n",
       "      <td>NaN</td>\n",
       "    </tr>\n",
       "    <tr>\n",
       "      <th>3</th>\n",
       "      <td>NaN</td>\n",
       "      <td>NaN</td>\n",
       "      <td>NaN</td>\n",
       "      <td>NaN</td>\n",
       "      <td>NaN</td>\n",
       "      <td>NaN</td>\n",
       "      <td>0.0</td>\n",
       "      <td>0.0</td>\n",
       "      <td>NaN</td>\n",
       "      <td>0.0</td>\n",
       "      <td>NaN</td>\n",
       "      <td>NaN</td>\n",
       "      <td>0.0</td>\n",
       "      <td>NaN</td>\n",
       "      <td>NaN</td>\n",
       "    </tr>\n",
       "    <tr>\n",
       "      <th>4</th>\n",
       "      <td>NaN</td>\n",
       "      <td>NaN</td>\n",
       "      <td>0.0</td>\n",
       "      <td>NaN</td>\n",
       "      <td>NaN</td>\n",
       "      <td>NaN</td>\n",
       "      <td>0.0</td>\n",
       "      <td>NaN</td>\n",
       "      <td>NaN</td>\n",
       "      <td>0.0</td>\n",
       "      <td>NaN</td>\n",
       "      <td>NaN</td>\n",
       "      <td>0.0</td>\n",
       "      <td>NaN</td>\n",
       "      <td>NaN</td>\n",
       "    </tr>\n",
       "    <tr>\n",
       "      <th>...</th>\n",
       "      <td>...</td>\n",
       "      <td>...</td>\n",
       "      <td>...</td>\n",
       "      <td>...</td>\n",
       "      <td>...</td>\n",
       "      <td>...</td>\n",
       "      <td>...</td>\n",
       "      <td>...</td>\n",
       "      <td>...</td>\n",
       "      <td>...</td>\n",
       "      <td>...</td>\n",
       "      <td>...</td>\n",
       "      <td>...</td>\n",
       "      <td>...</td>\n",
       "      <td>...</td>\n",
       "    </tr>\n",
       "    <tr>\n",
       "      <th>298</th>\n",
       "      <td>NaN</td>\n",
       "      <td>NaN</td>\n",
       "      <td>NaN</td>\n",
       "      <td>NaN</td>\n",
       "      <td>NaN</td>\n",
       "      <td>NaN</td>\n",
       "      <td>0.0</td>\n",
       "      <td>0.0</td>\n",
       "      <td>NaN</td>\n",
       "      <td>0.0</td>\n",
       "      <td>NaN</td>\n",
       "      <td>NaN</td>\n",
       "      <td>0.0</td>\n",
       "      <td>NaN</td>\n",
       "      <td>NaN</td>\n",
       "    </tr>\n",
       "    <tr>\n",
       "      <th>299</th>\n",
       "      <td>NaN</td>\n",
       "      <td>NaN</td>\n",
       "      <td>NaN</td>\n",
       "      <td>NaN</td>\n",
       "      <td>NaN</td>\n",
       "      <td>NaN</td>\n",
       "      <td>NaN</td>\n",
       "      <td>0.0</td>\n",
       "      <td>NaN</td>\n",
       "      <td>0.0</td>\n",
       "      <td>NaN</td>\n",
       "      <td>NaN</td>\n",
       "      <td>NaN</td>\n",
       "      <td>NaN</td>\n",
       "      <td>NaN</td>\n",
       "    </tr>\n",
       "    <tr>\n",
       "      <th>300</th>\n",
       "      <td>NaN</td>\n",
       "      <td>NaN</td>\n",
       "      <td>NaN</td>\n",
       "      <td>NaN</td>\n",
       "      <td>NaN</td>\n",
       "      <td>NaN</td>\n",
       "      <td>0.0</td>\n",
       "      <td>0.0</td>\n",
       "      <td>NaN</td>\n",
       "      <td>NaN</td>\n",
       "      <td>NaN</td>\n",
       "      <td>NaN</td>\n",
       "      <td>NaN</td>\n",
       "      <td>NaN</td>\n",
       "      <td>NaN</td>\n",
       "    </tr>\n",
       "    <tr>\n",
       "      <th>301</th>\n",
       "      <td>NaN</td>\n",
       "      <td>NaN</td>\n",
       "      <td>0.0</td>\n",
       "      <td>NaN</td>\n",
       "      <td>NaN</td>\n",
       "      <td>NaN</td>\n",
       "      <td>0.0</td>\n",
       "      <td>NaN</td>\n",
       "      <td>NaN</td>\n",
       "      <td>0.0</td>\n",
       "      <td>0.0</td>\n",
       "      <td>NaN</td>\n",
       "      <td>NaN</td>\n",
       "      <td>NaN</td>\n",
       "      <td>NaN</td>\n",
       "    </tr>\n",
       "    <tr>\n",
       "      <th>302</th>\n",
       "      <td>NaN</td>\n",
       "      <td>NaN</td>\n",
       "      <td>NaN</td>\n",
       "      <td>NaN</td>\n",
       "      <td>NaN</td>\n",
       "      <td>NaN</td>\n",
       "      <td>0.0</td>\n",
       "      <td>0.0</td>\n",
       "      <td>NaN</td>\n",
       "      <td>0.0</td>\n",
       "      <td>0.0</td>\n",
       "      <td>NaN</td>\n",
       "      <td>NaN</td>\n",
       "      <td>NaN</td>\n",
       "      <td>NaN</td>\n",
       "    </tr>\n",
       "  </tbody>\n",
       "</table>\n",
       "<p>303 rows × 15 columns</p>\n",
       "</div>"
      ],
      "text/plain": [
       "     Unnamed: 0  Age  Sex ChestPain  RestBP  Chol  Fbs  RestECG  MaxHR  ExAng  \\\n",
       "0           NaN  NaN  NaN       NaN     NaN   NaN  NaN      NaN    NaN    0.0   \n",
       "1           NaN  NaN  NaN       NaN     NaN   NaN  0.0      NaN    NaN    NaN   \n",
       "2           NaN  NaN  NaN       NaN     NaN   NaN  0.0      NaN    NaN    NaN   \n",
       "3           NaN  NaN  NaN       NaN     NaN   NaN  0.0      0.0    NaN    0.0   \n",
       "4           NaN  NaN  0.0       NaN     NaN   NaN  0.0      NaN    NaN    0.0   \n",
       "..          ...  ...  ...       ...     ...   ...  ...      ...    ...    ...   \n",
       "298         NaN  NaN  NaN       NaN     NaN   NaN  0.0      0.0    NaN    0.0   \n",
       "299         NaN  NaN  NaN       NaN     NaN   NaN  NaN      0.0    NaN    0.0   \n",
       "300         NaN  NaN  NaN       NaN     NaN   NaN  0.0      0.0    NaN    NaN   \n",
       "301         NaN  NaN  0.0       NaN     NaN   NaN  0.0      NaN    NaN    0.0   \n",
       "302         NaN  NaN  NaN       NaN     NaN   NaN  0.0      0.0    NaN    0.0   \n",
       "\n",
       "     Oldpeak  Slope   Ca Thal  AHD  \n",
       "0        NaN    NaN  0.0  NaN  NaN  \n",
       "1        NaN    NaN  NaN  NaN  NaN  \n",
       "2        NaN    NaN  NaN  NaN  NaN  \n",
       "3        NaN    NaN  0.0  NaN  NaN  \n",
       "4        NaN    NaN  0.0  NaN  NaN  \n",
       "..       ...    ...  ...  ...  ...  \n",
       "298      NaN    NaN  0.0  NaN  NaN  \n",
       "299      NaN    NaN  NaN  NaN  NaN  \n",
       "300      NaN    NaN  NaN  NaN  NaN  \n",
       "301      0.0    NaN  NaN  NaN  NaN  \n",
       "302      0.0    NaN  NaN  NaN  NaN  \n",
       "\n",
       "[303 rows x 15 columns]"
      ]
     },
     "execution_count": 14,
     "metadata": {},
     "output_type": "execute_result"
    }
   ],
   "source": [
    "df[df == 0]  # Method 2: Display all entries in the DataFrame where the values are zero"
   ]
  },
  {
   "cell_type": "code",
   "execution_count": 15,
   "id": "a41ba556-6586-4f80-a539-16c82839fcc8",
   "metadata": {},
   "outputs": [
    {
     "data": {
      "text/plain": [
       "Unnamed: 0      0\n",
       "Age             0\n",
       "Sex            97\n",
       "ChestPain       0\n",
       "RestBP          0\n",
       "Chol            0\n",
       "Fbs           258\n",
       "RestECG       151\n",
       "MaxHR           0\n",
       "ExAng         204\n",
       "Oldpeak        99\n",
       "Slope           0\n",
       "Ca            176\n",
       "Thal            0\n",
       "AHD             0\n",
       "dtype: int64"
      ]
     },
     "execution_count": 15,
     "metadata": {},
     "output_type": "execute_result"
    }
   ],
   "source": [
    "df[df == 0].count()  # Method 3: Count the number of occurrences of zero values in each column"
   ]
  },
  {
   "cell_type": "markdown",
   "id": "9c5b9cc7-fa3f-4e58-9921-3b9212cb279c",
   "metadata": {},
   "source": [
    "### e) Find mean age of patients"
   ]
  },
  {
   "cell_type": "code",
   "execution_count": 16,
   "id": "5ec72c75-4810-4c9a-8685-a479e8ae4957",
   "metadata": {},
   "outputs": [
    {
     "data": {
      "text/plain": [
       "Index(['Unnamed: 0', 'Age', 'Sex', 'ChestPain', 'RestBP', 'Chol', 'Fbs',\n",
       "       'RestECG', 'MaxHR', 'ExAng', 'Oldpeak', 'Slope', 'Ca', 'Thal', 'AHD'],\n",
       "      dtype='object')"
      ]
     },
     "execution_count": 16,
     "metadata": {},
     "output_type": "execute_result"
    }
   ],
   "source": [
    "df.columns  # Display the column names in the DataFrame"
   ]
  },
  {
   "cell_type": "code",
   "execution_count": 17,
   "id": "02980bc7-c473-4baf-b73f-43bdebcb0c88",
   "metadata": {},
   "outputs": [
    {
     "data": {
      "text/plain": [
       "np.float64(54.43894389438944)"
      ]
     },
     "execution_count": 17,
     "metadata": {},
     "output_type": "execute_result"
    }
   ],
   "source": [
    "# Below are three different methods to find Mean \n",
    "df['Age'].mean()  # Method 1: Calculate mean age using the pandas mean function"
   ]
  },
  {
   "cell_type": "code",
   "execution_count": 18,
   "id": "def1cca2-d053-4046-9e24-1ba1dff05775",
   "metadata": {},
   "outputs": [
    {
     "data": {
      "text/plain": [
       "np.float64(54.43894389438944)"
      ]
     },
     "execution_count": 18,
     "metadata": {},
     "output_type": "execute_result"
    }
   ],
   "source": [
    "df.Age.mean()  # Meathod 2: Calculate mean age using the DataFrame attribute"
   ]
  },
  {
   "cell_type": "code",
   "execution_count": 19,
   "id": "277522d1-c840-4627-8238-14466718bd5f",
   "metadata": {},
   "outputs": [
    {
     "data": {
      "text/plain": [
       "np.float64(54.43894389438944)"
      ]
     },
     "execution_count": 19,
     "metadata": {},
     "output_type": "execute_result"
    }
   ],
   "source": [
    "np.mean (df['Age'])  # Method 3: Calculate mean age using numpy's mean function"
   ]
  },
  {
   "cell_type": "markdown",
   "id": "ddbc7ce9-e8f1-4484-bc8d-5b742dce490f",
   "metadata": {},
   "source": [
    "### f) Now extract only Age, Sex, ChestPain, RestBP, Chol. Randomly divide dataset in training (75%) and testing (25%)."
   ]
  },
  {
   "cell_type": "code",
   "execution_count": 20,
   "id": "780eaca2-f820-4972-95e3-982feeba8620",
   "metadata": {},
   "outputs": [],
   "source": [
    "newdf = df[['Age', 'Sex', 'ChestPain', 'RestBP', 'Chol']]  # Create a new DataFrame with selected columns"
   ]
  },
  {
   "cell_type": "code",
   "execution_count": 21,
   "id": "b8c6991f-d73e-464c-9a0c-5043e0f6d74c",
   "metadata": {},
   "outputs": [
    {
     "data": {
      "text/html": [
       "<div>\n",
       "<style scoped>\n",
       "    .dataframe tbody tr th:only-of-type {\n",
       "        vertical-align: middle;\n",
       "    }\n",
       "\n",
       "    .dataframe tbody tr th {\n",
       "        vertical-align: top;\n",
       "    }\n",
       "\n",
       "    .dataframe thead th {\n",
       "        text-align: right;\n",
       "    }\n",
       "</style>\n",
       "<table border=\"1\" class=\"dataframe\">\n",
       "  <thead>\n",
       "    <tr style=\"text-align: right;\">\n",
       "      <th></th>\n",
       "      <th>Age</th>\n",
       "      <th>Sex</th>\n",
       "      <th>ChestPain</th>\n",
       "      <th>RestBP</th>\n",
       "      <th>Chol</th>\n",
       "    </tr>\n",
       "  </thead>\n",
       "  <tbody>\n",
       "    <tr>\n",
       "      <th>0</th>\n",
       "      <td>63</td>\n",
       "      <td>1</td>\n",
       "      <td>typical</td>\n",
       "      <td>145</td>\n",
       "      <td>233</td>\n",
       "    </tr>\n",
       "    <tr>\n",
       "      <th>1</th>\n",
       "      <td>67</td>\n",
       "      <td>1</td>\n",
       "      <td>asymptomatic</td>\n",
       "      <td>160</td>\n",
       "      <td>286</td>\n",
       "    </tr>\n",
       "    <tr>\n",
       "      <th>2</th>\n",
       "      <td>67</td>\n",
       "      <td>1</td>\n",
       "      <td>asymptomatic</td>\n",
       "      <td>120</td>\n",
       "      <td>229</td>\n",
       "    </tr>\n",
       "    <tr>\n",
       "      <th>3</th>\n",
       "      <td>37</td>\n",
       "      <td>1</td>\n",
       "      <td>nonanginal</td>\n",
       "      <td>130</td>\n",
       "      <td>250</td>\n",
       "    </tr>\n",
       "    <tr>\n",
       "      <th>4</th>\n",
       "      <td>41</td>\n",
       "      <td>0</td>\n",
       "      <td>nontypical</td>\n",
       "      <td>130</td>\n",
       "      <td>204</td>\n",
       "    </tr>\n",
       "    <tr>\n",
       "      <th>...</th>\n",
       "      <td>...</td>\n",
       "      <td>...</td>\n",
       "      <td>...</td>\n",
       "      <td>...</td>\n",
       "      <td>...</td>\n",
       "    </tr>\n",
       "    <tr>\n",
       "      <th>298</th>\n",
       "      <td>45</td>\n",
       "      <td>1</td>\n",
       "      <td>typical</td>\n",
       "      <td>110</td>\n",
       "      <td>264</td>\n",
       "    </tr>\n",
       "    <tr>\n",
       "      <th>299</th>\n",
       "      <td>68</td>\n",
       "      <td>1</td>\n",
       "      <td>asymptomatic</td>\n",
       "      <td>144</td>\n",
       "      <td>193</td>\n",
       "    </tr>\n",
       "    <tr>\n",
       "      <th>300</th>\n",
       "      <td>57</td>\n",
       "      <td>1</td>\n",
       "      <td>asymptomatic</td>\n",
       "      <td>130</td>\n",
       "      <td>131</td>\n",
       "    </tr>\n",
       "    <tr>\n",
       "      <th>301</th>\n",
       "      <td>57</td>\n",
       "      <td>0</td>\n",
       "      <td>nontypical</td>\n",
       "      <td>130</td>\n",
       "      <td>236</td>\n",
       "    </tr>\n",
       "    <tr>\n",
       "      <th>302</th>\n",
       "      <td>38</td>\n",
       "      <td>1</td>\n",
       "      <td>nonanginal</td>\n",
       "      <td>138</td>\n",
       "      <td>175</td>\n",
       "    </tr>\n",
       "  </tbody>\n",
       "</table>\n",
       "<p>303 rows × 5 columns</p>\n",
       "</div>"
      ],
      "text/plain": [
       "     Age  Sex     ChestPain  RestBP  Chol\n",
       "0     63    1       typical     145   233\n",
       "1     67    1  asymptomatic     160   286\n",
       "2     67    1  asymptomatic     120   229\n",
       "3     37    1    nonanginal     130   250\n",
       "4     41    0    nontypical     130   204\n",
       "..   ...  ...           ...     ...   ...\n",
       "298   45    1       typical     110   264\n",
       "299   68    1  asymptomatic     144   193\n",
       "300   57    1  asymptomatic     130   131\n",
       "301   57    0    nontypical     130   236\n",
       "302   38    1    nonanginal     138   175\n",
       "\n",
       "[303 rows x 5 columns]"
      ]
     },
     "execution_count": 21,
     "metadata": {},
     "output_type": "execute_result"
    }
   ],
   "source": [
    "newdf"
   ]
  },
  {
   "cell_type": "code",
   "execution_count": 22,
   "id": "ef0789fd-9c91-4803-9130-20953fe8ea50",
   "metadata": {},
   "outputs": [],
   "source": [
    "# Cross validation\n",
    "from sklearn.model_selection import train_test_split  # Import train_test_split for dataset splitting"
   ]
  },
  {
   "cell_type": "code",
   "execution_count": 23,
   "id": "f6c03889-ad1d-4c89-ad5d-24da6f05ce1a",
   "metadata": {},
   "outputs": [],
   "source": [
    "train, test = train_test_split(newdf, random_state=1, test_size=0.25)  # Split dataset into 75% train and 25% test "
   ]
  },
  {
   "cell_type": "code",
   "execution_count": 24,
   "id": "e9451ad2-f1d7-4880-86fe-570ccee2ecd3",
   "metadata": {},
   "outputs": [
    {
     "data": {
      "text/plain": [
       "(227, 5)"
      ]
     },
     "execution_count": 24,
     "metadata": {},
     "output_type": "execute_result"
    }
   ],
   "source": [
    "train.shape"
   ]
  },
  {
   "cell_type": "code",
   "execution_count": 25,
   "id": "f84ba193-6a84-4054-85ea-c7dac296ae2e",
   "metadata": {},
   "outputs": [
    {
     "data": {
      "text/plain": [
       "(76, 5)"
      ]
     },
     "execution_count": 25,
     "metadata": {},
     "output_type": "execute_result"
    }
   ],
   "source": [
    "test.shape"
   ]
  },
  {
   "cell_type": "code",
   "execution_count": 26,
   "id": "da06bf6b-8e65-4d71-afbc-fc62abb88e0b",
   "metadata": {},
   "outputs": [],
   "source": [
    "# Through the diagnosis test I predicted 100 report as COVID positive, but only 45 of those were actually positive. \n",
    "# Total 50 people in my sample were actually COVID positive. I have total 500 samples. \n",
    "# Create confusion matrix based on above data and find \n",
    "# I. Accuracy \n",
    "# II. Precision \n",
    "# III. Recall \n",
    "# IV. F-1 score"
   ]
  },
  {
   "cell_type": "code",
   "execution_count": 27,
   "id": "0d5bb3d3-8292-4a6f-8a4c-042fc0dc3c9f",
   "metadata": {},
   "outputs": [],
   "source": [
    "import matplotlib.pyplot as plt  # Import matplotlib for plotting\n",
    "from sklearn.metrics import ConfusionMatrixDisplay"
   ]
  },
  {
   "cell_type": "code",
   "execution_count": 28,
   "id": "1aa673fd-cc96-48ca-a64b-fe43fe76aed1",
   "metadata": {},
   "outputs": [],
   "source": [
    "# Define the confusion matrix data\n",
    "TP = 45  # True Positives: Correctly predicted positive cases\n",
    "FN = 5   # False Negatives: Incorrectly predicted as negative \n",
    "FP = 55  # False Positives: Incorrectly predicted as positive\n",
    "TN = 395 # True Negatives: Correctly predicted negative cases\n",
    "conf_matrix = np.array([[TP, FN], [FP, TN]])  # Create confusion matrix as a numpy array"
   ]
  },
  {
   "cell_type": "code",
   "execution_count": 29,
   "id": "f6687fd3-7243-45c8-892b-5df229a3e99b",
   "metadata": {},
   "outputs": [
    {
     "data": {
      "image/png": "[encoded data removed]",
      "text/plain": [
       "<Figure size 640x480 with 2 Axes>"
      ]
     },
     "metadata": {},
     "output_type": "display_data"
    }
   ],
   "source": [
    "# Display the confusion matrix\n",
    "disp = ConfusionMatrixDisplay(confusion_matrix=conf_matrix, display_labels=[\"Positive\", \"Negative\"])\n",
    "disp.plot(cmap=\"Greens\")  # Plot the confusion matrix with a green color map\n",
    "plt.title(\"Confusion Matrix\")  # Set the title for the plot\n",
    "plt.show()  # Display the plot"
   ]
  },
  {
   "cell_type": "code",
   "execution_count": 30,
   "id": "93454b4e-edcf-4982-a705-e1e0f97ea18a",
   "metadata": {},
   "outputs": [
    {
     "name": "stdout",
     "output_type": "stream",
     "text": [
      "[[ 45   5]\n",
      " [ 55 395]]\n"
     ]
    }
   ],
   "source": [
    "# Method 2 for confusion matrix\n",
    "print(conf_matrix)  # Output the confusion matrix to see its values"
   ]
  },
  {
   "cell_type": "code",
   "execution_count": 31,
   "id": "9683bfa7-1b1e-411a-8b0b-cec0c20ce732",
   "metadata": {},
   "outputs": [],
   "source": [
    "# Calculate performance metrics\n",
    "Accuracy = (TP + TN) / (TP + TN + FP + FN)  # Calculate accuracy\n",
    "Precision = TP / (TP + FP)  # Calculate precision\n",
    "Recall = TP / (TP + FN)  # Calculate recall\n",
    "f1_score = 2 * (Precision * Recall) / (Precision + Recall)  # Calculate F1 score"
   ]
  },
  {
   "cell_type": "code",
   "execution_count": 32,
   "id": "0ec9c252-81a6-48ea-a696-1314c882e989",
   "metadata": {},
   "outputs": [
    {
     "name": "stdout",
     "output_type": "stream",
     "text": [
      "0.88\n"
     ]
    }
   ],
   "source": [
    "print(Accuracy)"
   ]
  },
  {
   "cell_type": "code",
   "execution_count": 33,
   "id": "23efa689-4e11-425c-89ff-8400c69c230c",
   "metadata": {},
   "outputs": [
    {
     "name": "stdout",
     "output_type": "stream",
     "text": [
      "0.45\n"
     ]
    }
   ],
   "source": [
    "print(Precision)"
   ]
  },
  {
   "cell_type": "code",
   "execution_count": 34,
   "id": "2d8285a0-1585-412a-baa4-c3ee5f476198",
   "metadata": {},
   "outputs": [
    {
     "name": "stdout",
     "output_type": "stream",
     "text": [
      "0.9\n"
     ]
    }
   ],
   "source": [
    "print(Recall)"
   ]
  },
  {
   "cell_type": "code",
   "execution_count": 35,
   "id": "97fed5e5-86ca-49dc-a5e1-6db1a35e6887",
   "metadata": {},
   "outputs": [
    {
     "name": "stdout",
     "output_type": "stream",
     "text": [
      "0.6\n"
     ]
    }
   ],
   "source": [
    "print(f1_score)"
   ]
  },
  {
   "cell_type": "code",
   "execution_count": null,
   "id": "cb462e27-d6cf-49ae-abd3-f3717fa9ca98",
   "metadata": {},
   "outputs": [],
   "source": []
  }
 ],
 "metadata": {
  "kernelspec": {
   "display_name": "Python 3 (ipykernel)",
   "language": "python",
   "name": "python3"
  },
  "language_info": {
   "codemirror_mode": {
    "name": "ipython",
    "version": 3
   },
   "file_extension": ".py",
   "mimetype": "text/x-python",
   "name": "python",
   "nbconvert_exporter": "python",
   "pygments_lexer": "ipython3",
   "version": "3.12.4"
  }
 },
 "nbformat": 4,
 "nbformat_minor": 5
}
